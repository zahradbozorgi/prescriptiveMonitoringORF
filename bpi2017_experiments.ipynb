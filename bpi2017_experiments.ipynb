{
 "cells": [
  {
   "cell_type": "code",
   "execution_count": 1,
   "metadata": {},
   "outputs": [],
   "source": [
    "import pandas as pd\n",
    "import numpy as np\n",
    "from numpy import savetxt\n",
    "from tqdm import tqdm, tqdm_notebook\n",
    "from sklearn.preprocessing import StandardScaler\n",
    "pd.set_option('display.max_columns', None)\n",
    "import itertools"
   ]
  },
  {
   "cell_type": "code",
   "execution_count": 2,
   "metadata": {},
   "outputs": [],
   "source": [
    "import econml\n",
    "import warnings\n",
    "warnings.filterwarnings('ignore')"
   ]
  },
  {
   "cell_type": "code",
   "execution_count": 3,
   "metadata": {},
   "outputs": [],
   "source": [
    "# Main imports\n",
    "from econml.ortho_forest import DMLOrthoForest, DROrthoForest\n",
    "from econml.causal_tree import CausalTree\n",
    "from econml.sklearn_extensions.linear_model import WeightedLassoCVWrapper, WeightedLasso, WeightedLassoCV\n",
    "\n",
    "from econml.cate_interpreter import SingleTreeCateInterpreter, SingleTreePolicyInterpreter\n",
    "import graphviz\n",
    "\n",
    "# Helper imports\n",
    "import numpy as np\n",
    "from itertools import product\n",
    "from sklearn.linear_model import Lasso, LassoCV, LogisticRegression, LogisticRegressionCV\n",
    "import matplotlib.pyplot as plt\n",
    "\n",
    "%matplotlib inline\n",
    "\n",
    "# A few more imports\n",
    "import os\n",
    "import pandas as pd\n",
    "import urllib.request\n",
    "from sklearn.preprocessing import StandardScaler\n",
    "from sklearn.model_selection import train_test_split"
   ]
  },
  {
   "cell_type": "code",
   "execution_count": 4,
   "metadata": {},
   "outputs": [],
   "source": [
    "case_id_col = \"Case ID\"\n",
    "activity_col = \"Activity\"\n",
    "resource_col = \"org:resource\"\n",
    "timestamp_col = \"time:timestamp\"\n",
    "\n",
    "treatment = 'treatment'\n",
    "outcome = 'duration'"
   ]
  },
  {
   "cell_type": "code",
   "execution_count": 5,
   "metadata": {},
   "outputs": [],
   "source": [
    "dynamic_cat_cols = [\"Activity\", 'org:resource', 'Action', 'EventOrigin', 'lifecycle:transition']\n",
    "static_cat_cols = ['ApplicationType', 'LoanGoal']\n",
    "dynamic_num_cols = ['FirstWithdrawalAmount', 'MonthlyCost', 'NumberOfTerms', 'OfferedAmount', \"open_cases\", \"month\", \"weekday\", \"hour\"]\n",
    "static_num_cols = ['RequestedAmount', 'CreditScore', 'timesincefirstcase', 'duration', 'treatment']"
   ]
  },
  {
   "cell_type": "code",
   "execution_count": 6,
   "metadata": {
    "scrolled": true
   },
   "outputs": [],
   "source": [
    "tqdm.pandas()"
   ]
  },
  {
   "cell_type": "code",
   "execution_count": 7,
   "metadata": {},
   "outputs": [],
   "source": [
    "def read_data(file):\n",
    "    #df = pd.read_csv(file,sep=';')\n",
    "    df = pd.read_csv(file,sep=';',compression=\"zip\")\n",
    "    return df\n",
    "\n",
    "\n",
    "def prep_data(df):\n",
    "    \n",
    "    \n",
    "    # CreditScore handling\n",
    "    df.CreditScore.replace(0.0,np.nan, inplace=True) \n",
    "    df['CreditScore'].fillna((df['CreditScore'].median()), inplace=True)\n",
    "    \n",
    "    # MonthlyCost handling\n",
    "    df.MonthlyCost.replace(0.0,np.nan, inplace=True) \n",
    "    df['MonthlyCost'].fillna((df['MonthlyCost'].median()), inplace=True)\n",
    "    \n",
    "    # NumberOfTerms handling\n",
    "    df.NumberOfTerms.replace(0.0,np.nan, inplace=True) \n",
    "    df['NumberOfTerms'].fillna((df['NumberOfTerms'].median()), inplace=True)\n",
    "    \n",
    "    # FirstWithdrawalAmount handling\n",
    "    df.FirstWithdrawalAmount.replace(0.0,np.nan, inplace=True) \n",
    "    df['FirstWithdrawalAmount'].fillna((df['FirstWithdrawalAmount'].median()), inplace=True)\n",
    "    \n",
    "    \n",
    "    # for FrequencyOfIncompleteness\n",
    "    df2 = df[df['Activity']=='A_Incomplete']\n",
    "    df_new = pd.DataFrame(df2.groupby(['Case ID'])['Activity'].count()).reset_index()\n",
    "    df_new.columns = ['Case ID', 'FreqOfIncompleteness']\n",
    "    df_new = pd.DataFrame(df_new.groupby('Case ID')['FreqOfIncompleteness'].sum()).reset_index()\n",
    "    df = pd.merge(df_new, df, on='Case ID', how = 'outer')\n",
    "    df['FreqOfIncompleteness'].fillna(0, inplace=True)\n",
    "    \n",
    "    # For NumberOfOffers\n",
    "    df2 = df[df['Activity'] == \"O_Created\"] # to count offers\n",
    "    df_new = pd.DataFrame(df2.groupby(['Case ID'])['Activity'].count()).reset_index()\n",
    "    df_new.columns = ['Case ID', 'NumberOfOffers']\n",
    "    df = pd.merge(df_new, df, on='Case ID', how = 'outer')\n",
    "    \n",
    "    df = get_case_starttime(df)\n",
    "    \n",
    "    return df"
   ]
  },
  {
   "cell_type": "code",
   "execution_count": 8,
   "metadata": {},
   "outputs": [],
   "source": [
    "import time\n",
    "import datetime\n",
    "from datetime import timezone, timedelta\n",
    "    \n",
    "def get_duration(group):\n",
    "    group = group.sort_values(timestamp_col, ascending=True, kind='mergesort')\n",
    "    group['nr_event'] = range(len(group),0,-1)\n",
    "    group['duration'] = group[timestamp_col].iloc[-1] - group[timestamp_col].iloc[0]\n",
    "    group[\"duration\"] = group[\"duration\"] / np.timedelta64(1, 'D')\n",
    "    \n",
    "    return group"
   ]
  },
  {
   "cell_type": "code",
   "execution_count": 9,
   "metadata": {},
   "outputs": [],
   "source": [
    "# function to get the discrete treatment\n",
    "def get_treatment(activity, df):\n",
    "    df['treatment'] = 0\n",
    "    df2 = df[df[activity_col] == activity]\n",
    "    case_ids = list(set(df2[case_id_col]))\n",
    "    print(len(case_ids))\n",
    "    df.loc[df[case_id_col].isin(case_ids),\"treatment\"] = 1\n",
    "        \n",
    "    \n",
    "    return df"
   ]
  },
  {
   "cell_type": "code",
   "execution_count": 10,
   "metadata": {},
   "outputs": [],
   "source": [
    "def keep_first(group):\n",
    "    return group.head(1)\n",
    "\n",
    "# function to get the continuous treatment\n",
    "def get_activity_time(activity, df):\n",
    "    df2 = df[df['Activity'] == activity]\n",
    "    df2 = df2.groupby('Case ID').apply(keep_first)\n",
    "    \n",
    "    df_new = pd.DataFrame(df2[['Case ID', 'timesincecasestart']])\n",
    "    df_new.reset_index(drop=True, inplace=True)\n",
    "    #df_new.rename(columns = {'timesincecasestart':'time_of_'+activity}, inplace = True)\n",
    "    df_new.rename(columns = {'timesincecasestart':'treatment'}, inplace = True)\n",
    "    df_new['treatment'] = df_new['treatment']/1440\n",
    "    \n",
    "    df3 = pd.merge(df_new, df, on='Case ID', how = 'outer')\n",
    "    df3 = df3.dropna(subset=['treatment'])\n",
    "    \n",
    "    return df3"
   ]
  },
  {
   "cell_type": "code",
   "execution_count": 11,
   "metadata": {},
   "outputs": [],
   "source": [
    "def get_case_starttime(df):\n",
    "    group = df[df[\"event_nr\"]==1]\n",
    "    group = group.sort_values(timestamp_col, ascending=False, kind='mergesort')\n",
    "    \n",
    "    tmp = group[timestamp_col] - group[timestamp_col].iloc[-1]\n",
    "    tmp = tmp.fillna(pd.Timedelta(seconds=0))\n",
    "    group['timesincefirstcase'] = tmp.apply(lambda x: float(x / np.timedelta64(1, 'D'))) # D is for days\n",
    "    group = pd.DataFrame(group[[case_id_col, 'timesincefirstcase']])\n",
    "    \n",
    "    group = pd.merge(group, df, on='Case ID', how = 'outer')\n",
    "    \n",
    "    return group"
   ]
  },
  {
   "cell_type": "code",
   "execution_count": 12,
   "metadata": {
    "scrolled": true
   },
   "outputs": [],
   "source": [
    "data = 'BPIC17_O_Accepted.zip'\n",
    "df = read_data(data)"
   ]
  },
  {
   "cell_type": "code",
   "execution_count": 14,
   "metadata": {},
   "outputs": [
    {
     "name": "stderr",
     "output_type": "stream",
     "text": [
      "100%|██████████| 31413/31413 [01:37<00:00, 323.04it/s]\n"
     ]
    }
   ],
   "source": [
    "df[timestamp_col] = pd.to_datetime(df[timestamp_col])\n",
    "df = df.groupby(case_id_col).progress_apply(get_duration)\n",
    "df = df.reset_index(drop=True)"
   ]
  },
  {
   "cell_type": "code",
   "execution_count": 15,
   "metadata": {},
   "outputs": [],
   "source": [
    "df = prep_data(df)"
   ]
  },
  {
   "cell_type": "code",
   "execution_count": 16,
   "metadata": {},
   "outputs": [
    {
     "name": "stdout",
     "output_type": "stream",
     "text": [
      "14958\n"
     ]
    }
   ],
   "source": [
    "activity = 'W_Call incomplete files'\n",
    "df = get_treatment(activity, df)"
   ]
  },
  {
   "cell_type": "code",
   "execution_count": 17,
   "metadata": {},
   "outputs": [],
   "source": [
    "end_activity = [activity]\n",
    "end_points = []\n",
    "def cut_between_activities(group):\n",
    "    end_activity_idxs = np.where(group[activity_col].isin(end_activity))[0]\n",
    "    if len(end_activity_idxs) > 0:\n",
    "        cut_idx_end = end_activity_idxs[0]\n",
    "        end_points.append(cut_idx_end)\n",
    "    else:\n",
    "\n",
    "        cut_idx_end = int(np.random.choice(list(range(min(end_points), max(end_points))), 1))\n",
    "        if group[group[\"nr_event\"]==1].iloc[0][\"event_nr\"] <= cut_idx_end:\n",
    "            cut_idx_end = min(end_points)\n",
    "    \n",
    "    return group[:cut_idx_end]"
   ]
  },
  {
   "cell_type": "code",
   "execution_count": 18,
   "metadata": {
    "scrolled": false
   },
   "outputs": [
    {
     "name": "stderr",
     "output_type": "stream",
     "text": [
      "100%|██████████| 14958/14958 [00:27<00:00, 538.26it/s] \n",
      "100%|██████████| 16455/16455 [01:03<00:00, 259.33it/s]\n"
     ]
    }
   ],
   "source": [
    "# get prefixes for discreate treatment \n",
    "treated = df[df[treatment]==1]\n",
    "control = df[df[treatment]==0]\n",
    "dt_train_prefixes_t = treated.groupby(case_id_col).progress_apply(cut_between_activities)\n",
    "dt_train_prefixes_c = control.groupby(case_id_col).progress_apply(cut_between_activities)\n",
    "\n",
    "dt_prefixes = pd.concat([dt_train_prefixes_c, dt_train_prefixes_t], axis=0).reset_index(drop=True)"
   ]
  },
  {
   "cell_type": "code",
   "execution_count": 19,
   "metadata": {},
   "outputs": [],
   "source": [
    "import EncoderFactory\n",
    "\n",
    "agg_encoder = EncoderFactory.get_encoder(\"agg\", case_id_col=case_id_col, static_cat_cols=static_cat_cols,\n",
    "                                         static_num_cols=static_num_cols, dynamic_cat_cols=dynamic_cat_cols,\n",
    "                                         dynamic_num_cols=[])\n",
    "last_encoder = EncoderFactory.get_encoder(\"last\", case_id_col=case_id_col, static_cat_cols=static_cat_cols,\n",
    "                                         static_num_cols=static_num_cols, dynamic_cat_cols=[],\n",
    "                                         dynamic_num_cols=dynamic_num_cols)"
   ]
  },
  {
   "cell_type": "code",
   "execution_count": 20,
   "metadata": {},
   "outputs": [],
   "source": [
    "agg_encoded = agg_encoder.fit_transform(dt_prefixes)\n",
    "last_encoded = last_encoder.fit_transform(dt_prefixes)\n",
    "\n",
    "df_encoded = pd.merge(agg_encoded, last_encoded, on='Case ID')"
   ]
  },
  {
   "cell_type": "code",
   "execution_count": 21,
   "metadata": {},
   "outputs": [],
   "source": [
    "# create data with all features\n",
    "df_case = df[df[\"nr_event\"]==1]\n",
    "df2 = df_case[[case_id_col]+static_cat_cols+static_num_cols]\n",
    "\n",
    "df2 = pd.merge(df2, df_encoded, on='Case ID', how='inner')"
   ]
  },
  {
   "cell_type": "code",
   "execution_count": 23,
   "metadata": {
    "scrolled": true
   },
   "outputs": [],
   "source": [
    "df2 = df2.sort_values('timesincefirstcase', ascending=True, kind='mergesort')\n",
    "df2 = df2.reset_index(drop=True)"
   ]
  },
  {
   "cell_type": "code",
   "execution_count": null,
   "metadata": {},
   "outputs": [],
   "source": [
    "df2.to_csv('data_17_incompleteFiles.csv', index=False)"
   ]
  },
  {
   "cell_type": "code",
   "execution_count": null,
   "metadata": {},
   "outputs": [],
   "source": [
    "df2 = pd.read_csv('data_17_incompleteFiles.csv')"
   ]
  },
  {
   "cell_type": "code",
   "execution_count": 33,
   "metadata": {},
   "outputs": [
    {
     "data": {
      "text/plain": [
       "count    31413.000000\n",
       "mean       189.042793\n",
       "std        101.993112\n",
       "min          0.000000\n",
       "25%        101.405038\n",
       "50%        194.902894\n",
       "75%        275.356671\n",
       "max        365.490717\n",
       "Name: timesincefirstcase, dtype: float64"
      ]
     },
     "execution_count": 33,
     "metadata": {},
     "output_type": "execute_result"
    }
   ],
   "source": [
    "df2['timesincefirstcase'].describe()"
   ]
  },
  {
   "cell_type": "code",
   "execution_count": 25,
   "metadata": {},
   "outputs": [],
   "source": [
    "# Prepare data for time of activity treatment\n",
    "train, test = train_test_split(df2, test_size=0.2, shuffle=False)\n",
    "train, valid = train_test_split(train, test_size=0.2, shuffle=False)\n",
    "features = train.drop([outcome, treatment, case_id_col], axis=1)\n",
    "features_test = valid.drop([outcome, treatment, case_id_col], axis=1)\n",
    "\n",
    "\n",
    "cat_confound_cols = ['LoanGoal', 'ApplicationType']\n",
    "num_confound_cols = features.columns.difference(cat_confound_cols)\n",
    "\n",
    "cat_hetero_cols = ['LoanGoal', 'ApplicationType']\n",
    "num_hetero_cols = features.columns.difference(cat_hetero_cols)\n",
    "#num_hetero_cols = ['RequestedAmount', 'CreditScore']\n",
    "\n",
    "Y = train[outcome].to_numpy()\n",
    "T = train[treatment].to_numpy()\n",
    "scaler = StandardScaler()\n",
    "W1 = scaler.fit_transform(features[[c for c in num_confound_cols]].to_numpy())\n",
    "W2 = pd.get_dummies(features[cat_confound_cols]).to_numpy()\n",
    "W = np.concatenate([W1, W2], axis=1)\n",
    "X1 = scaler.fit_transform(features[[c for c in num_hetero_cols]].to_numpy())\n",
    "X2 = pd.get_dummies(features[cat_hetero_cols]).to_numpy()\n",
    "X = np.concatenate([X1, X2], axis=1)\n",
    "\n",
    "X1_test = scaler.fit_transform(features_test[[c for c in num_hetero_cols]].to_numpy())\n",
    "X2_test = pd.get_dummies(features_test[cat_hetero_cols]).to_numpy()\n",
    "X_test = np.concatenate([X1_test, X2_test], axis=1)"
   ]
  },
  {
   "cell_type": "code",
   "execution_count": 27,
   "metadata": {},
   "outputs": [],
   "source": [
    "N_trees = [200]\n",
    "Min_leaf_size = [20]\n",
    "Max_depth = [30]\n",
    "Subsample_ratio = [0.4]\n",
    "Lambda_reg = [0.01]"
   ]
  },
  {
   "cell_type": "code",
   "execution_count": null,
   "metadata": {
    "scrolled": true
   },
   "outputs": [],
   "source": [
    "# with open(\"results_1000.csv\", \"w\") as f:\n",
    "#     f.write(\"%s, %s, %s, %s, %s, %s\\n\" % (\"n_trees\", \"min_leaf_size\", \"max_depth\", \"subsample_ratio\", \"lambda_reg\", \"AUC\"))\n",
    "    \n",
    "for i in itertools.product(N_trees, Min_leaf_size, Max_depth, Subsample_ratio, Lambda_reg):\n",
    "    print(i)\n",
    "    n_trees = i[0]\n",
    "    min_leaf_size = i[1]\n",
    "    max_depth = i[2]\n",
    "    subsample_ratio = i[3]\n",
    "    lambda_reg = i[4]\n",
    "    est = DMLOrthoForest(\n",
    "        n_trees=n_trees, min_leaf_size=min_leaf_size, max_depth=max_depth, \n",
    "        subsample_ratio=subsample_ratio, discrete_treatment=True,\n",
    "        model_T=LogisticRegression(C=1/(X.shape[0]*lambda_reg), penalty='l1', solver='saga'),\n",
    "        model_Y=Lasso(alpha=lambda_reg),\n",
    "        model_T_final=LogisticRegression(C=1/(X.shape[0]*lambda_reg), penalty='l1', solver='saga'), \n",
    "        model_Y_final=WeightedLasso(alpha=lambda_reg),\n",
    "        random_state=106\n",
    "       )\n",
    "    \n",
    "    ortho_model = est.fit(Y, T, X, W)\n",
    "    batches = np.array_split(X_test, X_test.shape[0] / 100)\n",
    "    treatment_effects = est.const_marginal_effect(batches[0])\n",
    "    ii = 0\n",
    "    for batch in batches[1:]:\n",
    "#         print(ii)\n",
    "        estimates = est.const_marginal_effect(batch)\n",
    "        treatment_effects = np.append(treatment_effects, estimates)\n",
    "        ii += 1\n",
    "    df_results = valid\n",
    "    df_results['Treatment Effects'] = treatment_effects\n",
    "    \n",
    "    # Calculate default (90%) confidence intervals for the default treatment points T0=0 and T1=1\n",
    "#     te_lower, te_upper = est.effect_interval(batches[0])\n",
    "#     ii = 0\n",
    "#     for batch in batches[1:]:\n",
    "#         print(ii)\n",
    "#         lower, upper = est.effect_interval(batch)\n",
    "#         te_lower = np.append(te_lower, lower)\n",
    "#         te_upper = np.append(te_upper, upper)\n",
    "#         ii += 1\n",
    "        \n",
    "#     df_results['te_lower'] = te_lower\n",
    "#     df_results['te_upper'] = te_upper\n",
    "#     df_results['Interval Length'] = df_results['te_upper'] - df_results['te_lower']\n",
    "    \n",
    "    net_value = [0]\n",
    "    net_value2 = [0]\n",
    "    net_value3 = [0]\n",
    "\n",
    "    percentages = [10,20,30,40,50,60,70,80,90,100]\n",
    "\n",
    "    for n in percentages:\n",
    "        num = int(len(df_results)*(n/100))\n",
    "        top_n = df_results.nsmallest(num,'Treatment Effects')\n",
    "        n_treated = top_n[top_n['treatment']==1].shape[0]\n",
    "        n_control = top_n[top_n['treatment']==0].shape[0]\n",
    "        scale_factor = n_treated/n_control\n",
    "\n",
    "        treated = top_n[top_n['treatment']==1]['duration'].sum()\n",
    "        control = top_n[top_n['treatment']==0]['duration'].sum()\n",
    "\n",
    "        reduction = (scale_factor*control) - treated \n",
    "        net_value.append(reduction)\n",
    "        \n",
    "#     for n in percentages:\n",
    "#         num = int(len(df_results)*(n/100))\n",
    "#         top_n = df_results.nsmallest(num,'te_lower')\n",
    "#         n_treated = top_n[top_n['treatment']==1].shape[0]\n",
    "#         n_control = top_n[top_n['treatment']==0].shape[0]\n",
    "#         scale_factor = n_treated/n_control\n",
    "\n",
    "#         treated = top_n[top_n['treatment']==1]['duration'].sum()\n",
    "#         control = top_n[top_n['treatment']==0]['duration'].sum()\n",
    "\n",
    "#         reduction = (scale_factor*control) - treated \n",
    "#         net_value2.append(reduction)\n",
    "        \n",
    "#     for n in percentages:\n",
    "#         num = int(len(df_results)*(n/100))\n",
    "#         top_n = df_results.nsmallest(num,'te_upper')\n",
    "#         n_treated = top_n[top_n['treatment']==1].shape[0]\n",
    "#         n_control = top_n[top_n['treatment']==0].shape[0]\n",
    "#         scale_factor = n_treated/n_control\n",
    "\n",
    "#         treated = top_n[top_n['treatment']==1]['duration'].sum()\n",
    "#         control = top_n[top_n['treatment']==0]['duration'].sum()\n",
    "\n",
    "#         reduction = (scale_factor*control) - treated \n",
    "#         net_value3.append(reduction) \n",
    "        \n",
    "#     plt.figure(figsize=(10, 4))\n",
    "#     plt.subplot(1, 2, 1)\n",
    "    plt.plot([0]+percentages, net_value, label=\"'Treatment Effect\", marker=\"o\")\n",
    "#     plt.plot([0]+percentages, net_value2, label=\"'TE Lower bound\", marker=\"o\", color='Green')\n",
    "#     plt.plot([0]+percentages, net_value3, label=\"'TE Upper bound\", marker=\"o\", color='Red')\n",
    "    plt.plot([0,percentages[9]], [0,net_value[10]], label=\"'Random\",  marker=\"o\", color='Black',\n",
    "             linestyle='dashed')\n",
    "    plt.xlabel('Proportion of cases targeted')\n",
    "    plt.ylabel('Expected incremental reduction')\n",
    "    plt.legend(loc='best')\n",
    "    plt.title(i)\n",
    "\n",
    "    plt.savefig('Results/_Call_incomplete_files_valid_%s.png'%str(i), format='png', dpi=300)\n",
    "    \n",
    "    AUC = np.trapz(net_value, [0]+percentages)\n",
    "    \n",
    "#     with open(\"results_1000.csv\", \"a\") as f:\n",
    "#         f.write(\"%s, %s, %s, %s, %s, %s\\n\" % (n_trees, min_leaf_size, max_depth, subsample_ratio, lambda_reg, AUC))"
   ]
  },
  {
   "cell_type": "code",
   "execution_count": 28,
   "metadata": {
    "scrolled": true
   },
   "outputs": [
    {
     "name": "stdout",
     "output_type": "stream",
     "text": [
      "(200, 20, 30, 0.4, 0.01)\n"
     ]
    },
    {
     "name": "stderr",
     "output_type": "stream",
     "text": [
      "[Parallel(n_jobs=-1)]: Using backend LokyBackend with 16 concurrent workers.\n",
      "[Parallel(n_jobs=-1)]: Done  96 tasks      | elapsed:   19.8s\n",
      "[Parallel(n_jobs=-1)]: Done 200 out of 200 | elapsed:   38.4s finished\n",
      "[Parallel(n_jobs=-1)]: Using backend LokyBackend with 16 concurrent workers.\n",
      "[Parallel(n_jobs=-1)]: Done  96 tasks      | elapsed:   18.7s\n",
      "[Parallel(n_jobs=-1)]: Done 200 out of 200 | elapsed:   37.2s finished\n",
      "[Parallel(n_jobs=-1)]: Using backend LokyBackend with 16 concurrent workers.\n",
      "[Parallel(n_jobs=-1)]: Done 102 out of 102 | elapsed:   23.8s finished\n",
      "[Parallel(n_jobs=-1)]: Using backend LokyBackend with 16 concurrent workers.\n",
      "[Parallel(n_jobs=-1)]: Done 102 out of 102 | elapsed:   21.8s finished\n",
      "[Parallel(n_jobs=-1)]: Using backend LokyBackend with 16 concurrent workers.\n",
      "[Parallel(n_jobs=-1)]: Done 102 out of 102 | elapsed:   22.1s finished\n",
      "[Parallel(n_jobs=-1)]: Using backend LokyBackend with 16 concurrent workers.\n",
      "[Parallel(n_jobs=-1)]: Done 102 out of 102 | elapsed:   21.7s finished\n",
      "[Parallel(n_jobs=-1)]: Using backend LokyBackend with 16 concurrent workers.\n",
      "[Parallel(n_jobs=-1)]: Done 102 out of 102 | elapsed:   22.3s finished\n",
      "[Parallel(n_jobs=-1)]: Using backend LokyBackend with 16 concurrent workers.\n",
      "[Parallel(n_jobs=-1)]: Done 102 out of 102 | elapsed:   21.1s finished\n",
      "[Parallel(n_jobs=-1)]: Using backend LokyBackend with 16 concurrent workers.\n",
      "[Parallel(n_jobs=-1)]: Done 102 out of 102 | elapsed:   21.2s finished\n",
      "[Parallel(n_jobs=-1)]: Using backend LokyBackend with 16 concurrent workers.\n",
      "[Parallel(n_jobs=-1)]: Done 102 out of 102 | elapsed:   22.0s finished\n",
      "[Parallel(n_jobs=-1)]: Using backend LokyBackend with 16 concurrent workers.\n",
      "[Parallel(n_jobs=-1)]: Done 102 out of 102 | elapsed:   22.7s finished\n",
      "[Parallel(n_jobs=-1)]: Using backend LokyBackend with 16 concurrent workers.\n",
      "[Parallel(n_jobs=-1)]: Done 102 out of 102 | elapsed:   23.5s finished\n",
      "[Parallel(n_jobs=-1)]: Using backend LokyBackend with 16 concurrent workers.\n",
      "[Parallel(n_jobs=-1)]: Done 102 out of 102 | elapsed:   22.6s finished\n",
      "[Parallel(n_jobs=-1)]: Using backend LokyBackend with 16 concurrent workers.\n",
      "[Parallel(n_jobs=-1)]: Done 102 out of 102 | elapsed:   22.1s finished\n",
      "[Parallel(n_jobs=-1)]: Using backend LokyBackend with 16 concurrent workers.\n",
      "[Parallel(n_jobs=-1)]: Done 102 out of 102 | elapsed:   23.2s finished\n",
      "[Parallel(n_jobs=-1)]: Using backend LokyBackend with 16 concurrent workers.\n",
      "[Parallel(n_jobs=-1)]: Done 102 out of 102 | elapsed:   21.3s finished\n",
      "[Parallel(n_jobs=-1)]: Using backend LokyBackend with 16 concurrent workers.\n",
      "[Parallel(n_jobs=-1)]: Done 102 out of 102 | elapsed:   23.8s finished\n",
      "[Parallel(n_jobs=-1)]: Using backend LokyBackend with 16 concurrent workers.\n",
      "[Parallel(n_jobs=-1)]: Done 102 out of 102 | elapsed:   21.7s finished\n",
      "[Parallel(n_jobs=-1)]: Using backend LokyBackend with 16 concurrent workers.\n",
      "[Parallel(n_jobs=-1)]: Done 102 out of 102 | elapsed:   22.3s finished\n",
      "[Parallel(n_jobs=-1)]: Using backend LokyBackend with 16 concurrent workers.\n",
      "[Parallel(n_jobs=-1)]: Done 102 out of 102 | elapsed:   22.5s finished\n",
      "[Parallel(n_jobs=-1)]: Using backend LokyBackend with 16 concurrent workers.\n",
      "[Parallel(n_jobs=-1)]: Done 102 out of 102 | elapsed:   24.8s finished\n",
      "[Parallel(n_jobs=-1)]: Using backend LokyBackend with 16 concurrent workers.\n",
      "[Parallel(n_jobs=-1)]: Done 102 out of 102 | elapsed:   23.5s finished\n",
      "[Parallel(n_jobs=-1)]: Using backend LokyBackend with 16 concurrent workers.\n",
      "[Parallel(n_jobs=-1)]: Done 102 out of 102 | elapsed:   23.4s finished\n",
      "[Parallel(n_jobs=-1)]: Using backend LokyBackend with 16 concurrent workers.\n",
      "[Parallel(n_jobs=-1)]: Done 101 out of 101 | elapsed:   24.1s finished\n",
      "[Parallel(n_jobs=-1)]: Using backend LokyBackend with 16 concurrent workers.\n",
      "[Parallel(n_jobs=-1)]: Done 101 out of 101 | elapsed:   22.7s finished\n",
      "[Parallel(n_jobs=-1)]: Using backend LokyBackend with 16 concurrent workers.\n",
      "[Parallel(n_jobs=-1)]: Done 101 out of 101 | elapsed:   24.3s finished\n",
      "[Parallel(n_jobs=-1)]: Using backend LokyBackend with 16 concurrent workers.\n",
      "[Parallel(n_jobs=-1)]: Done 101 out of 101 | elapsed:   22.8s finished\n",
      "[Parallel(n_jobs=-1)]: Using backend LokyBackend with 16 concurrent workers.\n",
      "[Parallel(n_jobs=-1)]: Done 101 out of 101 | elapsed:   22.8s finished\n",
      "[Parallel(n_jobs=-1)]: Using backend LokyBackend with 16 concurrent workers.\n",
      "[Parallel(n_jobs=-1)]: Done 101 out of 101 | elapsed:   24.4s finished\n",
      "[Parallel(n_jobs=-1)]: Using backend LokyBackend with 16 concurrent workers.\n",
      "[Parallel(n_jobs=-1)]: Done 101 out of 101 | elapsed:   23.6s finished\n",
      "[Parallel(n_jobs=-1)]: Using backend LokyBackend with 16 concurrent workers.\n",
      "[Parallel(n_jobs=-1)]: Done 101 out of 101 | elapsed:   23.2s finished\n",
      "[Parallel(n_jobs=-1)]: Using backend LokyBackend with 16 concurrent workers.\n",
      "[Parallel(n_jobs=-1)]: Done 101 out of 101 | elapsed:   23.3s finished\n",
      "[Parallel(n_jobs=-1)]: Using backend LokyBackend with 16 concurrent workers.\n",
      "[Parallel(n_jobs=-1)]: Done 101 out of 101 | elapsed:   21.6s finished\n",
      "[Parallel(n_jobs=-1)]: Using backend LokyBackend with 16 concurrent workers.\n",
      "[Parallel(n_jobs=-1)]: Done 101 out of 101 | elapsed:   22.3s finished\n",
      "[Parallel(n_jobs=-1)]: Using backend LokyBackend with 16 concurrent workers.\n",
      "[Parallel(n_jobs=-1)]: Done 101 out of 101 | elapsed:   22.9s finished\n",
      "[Parallel(n_jobs=-1)]: Using backend LokyBackend with 16 concurrent workers.\n",
      "[Parallel(n_jobs=-1)]: Done 101 out of 101 | elapsed:   21.6s finished\n",
      "[Parallel(n_jobs=-1)]: Using backend LokyBackend with 16 concurrent workers.\n",
      "[Parallel(n_jobs=-1)]: Done 101 out of 101 | elapsed:   22.3s finished\n",
      "[Parallel(n_jobs=-1)]: Using backend LokyBackend with 16 concurrent workers.\n",
      "[Parallel(n_jobs=-1)]: Done 101 out of 101 | elapsed:   22.0s finished\n",
      "[Parallel(n_jobs=-1)]: Using backend LokyBackend with 16 concurrent workers.\n",
      "[Parallel(n_jobs=-1)]: Done 101 out of 101 | elapsed:   25.0s finished\n",
      "[Parallel(n_jobs=-1)]: Using backend LokyBackend with 16 concurrent workers.\n",
      "[Parallel(n_jobs=-1)]: Done 101 out of 101 | elapsed:   21.1s finished\n",
      "[Parallel(n_jobs=-1)]: Using backend LokyBackend with 16 concurrent workers.\n",
      "[Parallel(n_jobs=-1)]: Done 101 out of 101 | elapsed:   22.7s finished\n",
      "[Parallel(n_jobs=-1)]: Using backend LokyBackend with 16 concurrent workers.\n",
      "[Parallel(n_jobs=-1)]: Done 101 out of 101 | elapsed:   21.5s finished\n",
      "[Parallel(n_jobs=-1)]: Using backend LokyBackend with 16 concurrent workers.\n",
      "[Parallel(n_jobs=-1)]: Done 101 out of 101 | elapsed:   22.1s finished\n",
      "[Parallel(n_jobs=-1)]: Using backend LokyBackend with 16 concurrent workers.\n",
      "[Parallel(n_jobs=-1)]: Done 101 out of 101 | elapsed:   22.2s finished\n",
      "[Parallel(n_jobs=-1)]: Using backend LokyBackend with 16 concurrent workers.\n",
      "[Parallel(n_jobs=-1)]: Done 101 out of 101 | elapsed:   23.3s finished\n",
      "[Parallel(n_jobs=-1)]: Using backend LokyBackend with 16 concurrent workers.\n",
      "[Parallel(n_jobs=-1)]: Done 101 out of 101 | elapsed:   23.8s finished\n",
      "[Parallel(n_jobs=-1)]: Using backend LokyBackend with 16 concurrent workers.\n",
      "[Parallel(n_jobs=-1)]: Done 101 out of 101 | elapsed:   21.7s finished\n",
      "[Parallel(n_jobs=-1)]: Using backend LokyBackend with 16 concurrent workers.\n",
      "[Parallel(n_jobs=-1)]: Done 101 out of 101 | elapsed:   23.2s finished\n",
      "[Parallel(n_jobs=-1)]: Using backend LokyBackend with 16 concurrent workers.\n",
      "[Parallel(n_jobs=-1)]: Done 101 out of 101 | elapsed:   22.3s finished\n",
      "[Parallel(n_jobs=-1)]: Using backend LokyBackend with 16 concurrent workers.\n",
      "[Parallel(n_jobs=-1)]: Done 101 out of 101 | elapsed:   23.3s finished\n",
      "[Parallel(n_jobs=-1)]: Using backend LokyBackend with 16 concurrent workers.\n",
      "[Parallel(n_jobs=-1)]: Done 101 out of 101 | elapsed:   22.1s finished\n",
      "[Parallel(n_jobs=-1)]: Using backend LokyBackend with 16 concurrent workers.\n",
      "[Parallel(n_jobs=-1)]: Done 101 out of 101 | elapsed:   21.2s finished\n",
      "[Parallel(n_jobs=-1)]: Using backend LokyBackend with 16 concurrent workers.\n",
      "[Parallel(n_jobs=-1)]: Done 101 out of 101 | elapsed:   22.0s finished\n",
      "[Parallel(n_jobs=-1)]: Using backend LokyBackend with 16 concurrent workers.\n",
      "[Parallel(n_jobs=-1)]: Done 101 out of 101 | elapsed:   21.6s finished\n",
      "[Parallel(n_jobs=-1)]: Using backend LokyBackend with 16 concurrent workers.\n",
      "[Parallel(n_jobs=-1)]: Done 101 out of 101 | elapsed:   21.0s finished\n",
      "[Parallel(n_jobs=-1)]: Using backend LokyBackend with 16 concurrent workers.\n",
      "[Parallel(n_jobs=-1)]: Done 101 out of 101 | elapsed:   21.2s finished\n",
      "[Parallel(n_jobs=-1)]: Using backend LokyBackend with 16 concurrent workers.\n",
      "[Parallel(n_jobs=-1)]: Done 101 out of 101 | elapsed:   21.0s finished\n",
      "[Parallel(n_jobs=-1)]: Using backend LokyBackend with 16 concurrent workers.\n",
      "[Parallel(n_jobs=-1)]: Done 101 out of 101 | elapsed:   20.1s finished\n",
      "[Parallel(n_jobs=-1)]: Using backend LokyBackend with 16 concurrent workers.\n",
      "[Parallel(n_jobs=-1)]: Done 101 out of 101 | elapsed:   20.1s finished\n",
      "[Parallel(n_jobs=-1)]: Using backend LokyBackend with 16 concurrent workers.\n",
      "[Parallel(n_jobs=-1)]: Done 101 out of 101 | elapsed:   19.2s finished\n",
      "[Parallel(n_jobs=-1)]: Using backend LokyBackend with 16 concurrent workers.\n",
      "[Parallel(n_jobs=-1)]: Done 101 out of 101 | elapsed:   21.3s finished\n",
      "[Parallel(n_jobs=-1)]: Using backend LokyBackend with 16 concurrent workers.\n",
      "[Parallel(n_jobs=-1)]: Done 101 out of 101 | elapsed:   20.6s finished\n",
      "[Parallel(n_jobs=-1)]: Using backend LokyBackend with 16 concurrent workers.\n",
      "[Parallel(n_jobs=-1)]: Done 101 out of 101 | elapsed:   20.6s finished\n",
      "[Parallel(n_jobs=-1)]: Using backend LokyBackend with 16 concurrent workers.\n",
      "[Parallel(n_jobs=-1)]: Done 101 out of 101 | elapsed:   21.1s finished\n",
      "[Parallel(n_jobs=-1)]: Using backend LokyBackend with 16 concurrent workers.\n",
      "[Parallel(n_jobs=-1)]: Done 102 out of 102 | elapsed:   22.6s finished\n",
      "[Parallel(n_jobs=-1)]: Using backend LokyBackend with 16 concurrent workers.\n"
     ]
    },
    {
     "name": "stdout",
     "output_type": "stream",
     "text": [
      "0\n"
     ]
    },
    {
     "name": "stderr",
     "output_type": "stream",
     "text": [
      "[Parallel(n_jobs=-1)]: Done 102 out of 102 | elapsed:   22.5s finished\n",
      "[Parallel(n_jobs=-1)]: Using backend LokyBackend with 16 concurrent workers.\n"
     ]
    },
    {
     "name": "stdout",
     "output_type": "stream",
     "text": [
      "1\n"
     ]
    },
    {
     "name": "stderr",
     "output_type": "stream",
     "text": [
      "[Parallel(n_jobs=-1)]: Done 102 out of 102 | elapsed:   22.7s finished\n",
      "[Parallel(n_jobs=-1)]: Using backend LokyBackend with 16 concurrent workers.\n"
     ]
    },
    {
     "name": "stdout",
     "output_type": "stream",
     "text": [
      "2\n"
     ]
    },
    {
     "name": "stderr",
     "output_type": "stream",
     "text": [
      "[Parallel(n_jobs=-1)]: Done 102 out of 102 | elapsed:   22.1s finished\n",
      "[Parallel(n_jobs=-1)]: Using backend LokyBackend with 16 concurrent workers.\n"
     ]
    },
    {
     "name": "stdout",
     "output_type": "stream",
     "text": [
      "3\n"
     ]
    },
    {
     "name": "stderr",
     "output_type": "stream",
     "text": [
      "[Parallel(n_jobs=-1)]: Done 102 out of 102 | elapsed:   22.7s finished\n",
      "[Parallel(n_jobs=-1)]: Using backend LokyBackend with 16 concurrent workers.\n"
     ]
    },
    {
     "name": "stdout",
     "output_type": "stream",
     "text": [
      "4\n"
     ]
    },
    {
     "name": "stderr",
     "output_type": "stream",
     "text": [
      "[Parallel(n_jobs=-1)]: Done 102 out of 102 | elapsed:   21.3s finished\n",
      "[Parallel(n_jobs=-1)]: Using backend LokyBackend with 16 concurrent workers.\n"
     ]
    },
    {
     "name": "stdout",
     "output_type": "stream",
     "text": [
      "5\n"
     ]
    },
    {
     "name": "stderr",
     "output_type": "stream",
     "text": [
      "[Parallel(n_jobs=-1)]: Done 102 out of 102 | elapsed:   21.5s finished\n",
      "[Parallel(n_jobs=-1)]: Using backend LokyBackend with 16 concurrent workers.\n"
     ]
    },
    {
     "name": "stdout",
     "output_type": "stream",
     "text": [
      "6\n"
     ]
    },
    {
     "name": "stderr",
     "output_type": "stream",
     "text": [
      "[Parallel(n_jobs=-1)]: Done 102 out of 102 | elapsed:   22.2s finished\n",
      "[Parallel(n_jobs=-1)]: Using backend LokyBackend with 16 concurrent workers.\n"
     ]
    },
    {
     "name": "stdout",
     "output_type": "stream",
     "text": [
      "7\n"
     ]
    },
    {
     "name": "stderr",
     "output_type": "stream",
     "text": [
      "[Parallel(n_jobs=-1)]: Done 102 out of 102 | elapsed:   22.9s finished\n",
      "[Parallel(n_jobs=-1)]: Using backend LokyBackend with 16 concurrent workers.\n"
     ]
    },
    {
     "name": "stdout",
     "output_type": "stream",
     "text": [
      "8\n"
     ]
    },
    {
     "name": "stderr",
     "output_type": "stream",
     "text": [
      "[Parallel(n_jobs=-1)]: Done 102 out of 102 | elapsed:   23.6s finished\n",
      "[Parallel(n_jobs=-1)]: Using backend LokyBackend with 16 concurrent workers.\n"
     ]
    },
    {
     "name": "stdout",
     "output_type": "stream",
     "text": [
      "9\n"
     ]
    },
    {
     "name": "stderr",
     "output_type": "stream",
     "text": [
      "[Parallel(n_jobs=-1)]: Done 102 out of 102 | elapsed:   22.9s finished\n",
      "[Parallel(n_jobs=-1)]: Using backend LokyBackend with 16 concurrent workers.\n"
     ]
    },
    {
     "name": "stdout",
     "output_type": "stream",
     "text": [
      "10\n"
     ]
    },
    {
     "name": "stderr",
     "output_type": "stream",
     "text": [
      "[Parallel(n_jobs=-1)]: Done 102 out of 102 | elapsed:   22.2s finished\n",
      "[Parallel(n_jobs=-1)]: Using backend LokyBackend with 16 concurrent workers.\n"
     ]
    },
    {
     "name": "stdout",
     "output_type": "stream",
     "text": [
      "11\n"
     ]
    },
    {
     "name": "stderr",
     "output_type": "stream",
     "text": [
      "[Parallel(n_jobs=-1)]: Done 102 out of 102 | elapsed:   23.5s finished\n",
      "[Parallel(n_jobs=-1)]: Using backend LokyBackend with 16 concurrent workers.\n"
     ]
    },
    {
     "name": "stdout",
     "output_type": "stream",
     "text": [
      "12\n"
     ]
    },
    {
     "name": "stderr",
     "output_type": "stream",
     "text": [
      "[Parallel(n_jobs=-1)]: Done 102 out of 102 | elapsed:   21.6s finished\n",
      "[Parallel(n_jobs=-1)]: Using backend LokyBackend with 16 concurrent workers.\n"
     ]
    },
    {
     "name": "stdout",
     "output_type": "stream",
     "text": [
      "13\n"
     ]
    },
    {
     "name": "stderr",
     "output_type": "stream",
     "text": [
      "[Parallel(n_jobs=-1)]: Done 102 out of 102 | elapsed:   24.1s finished\n",
      "[Parallel(n_jobs=-1)]: Using backend LokyBackend with 16 concurrent workers.\n"
     ]
    },
    {
     "name": "stdout",
     "output_type": "stream",
     "text": [
      "14\n"
     ]
    },
    {
     "name": "stderr",
     "output_type": "stream",
     "text": [
      "[Parallel(n_jobs=-1)]: Done 102 out of 102 | elapsed:   22.0s finished\n",
      "[Parallel(n_jobs=-1)]: Using backend LokyBackend with 16 concurrent workers.\n"
     ]
    },
    {
     "name": "stdout",
     "output_type": "stream",
     "text": [
      "15\n"
     ]
    },
    {
     "name": "stderr",
     "output_type": "stream",
     "text": [
      "[Parallel(n_jobs=-1)]: Done 102 out of 102 | elapsed:   22.5s finished\n",
      "[Parallel(n_jobs=-1)]: Using backend LokyBackend with 16 concurrent workers.\n"
     ]
    },
    {
     "name": "stdout",
     "output_type": "stream",
     "text": [
      "16\n"
     ]
    },
    {
     "name": "stderr",
     "output_type": "stream",
     "text": [
      "[Parallel(n_jobs=-1)]: Done 102 out of 102 | elapsed:   22.8s finished\n",
      "[Parallel(n_jobs=-1)]: Using backend LokyBackend with 16 concurrent workers.\n"
     ]
    },
    {
     "name": "stdout",
     "output_type": "stream",
     "text": [
      "17\n"
     ]
    },
    {
     "name": "stderr",
     "output_type": "stream",
     "text": [
      "[Parallel(n_jobs=-1)]: Done 102 out of 102 | elapsed:   25.2s finished\n",
      "[Parallel(n_jobs=-1)]: Using backend LokyBackend with 16 concurrent workers.\n"
     ]
    },
    {
     "name": "stdout",
     "output_type": "stream",
     "text": [
      "18\n"
     ]
    },
    {
     "name": "stderr",
     "output_type": "stream",
     "text": [
      "[Parallel(n_jobs=-1)]: Done 102 out of 102 | elapsed:   23.8s finished\n",
      "[Parallel(n_jobs=-1)]: Using backend LokyBackend with 16 concurrent workers.\n"
     ]
    },
    {
     "name": "stdout",
     "output_type": "stream",
     "text": [
      "19\n"
     ]
    },
    {
     "name": "stderr",
     "output_type": "stream",
     "text": [
      "[Parallel(n_jobs=-1)]: Done 102 out of 102 | elapsed:   23.6s finished\n",
      "[Parallel(n_jobs=-1)]: Using backend LokyBackend with 16 concurrent workers.\n"
     ]
    },
    {
     "name": "stdout",
     "output_type": "stream",
     "text": [
      "20\n"
     ]
    },
    {
     "name": "stderr",
     "output_type": "stream",
     "text": [
      "[Parallel(n_jobs=-1)]: Done 101 out of 101 | elapsed:   24.5s finished\n",
      "[Parallel(n_jobs=-1)]: Using backend LokyBackend with 16 concurrent workers.\n"
     ]
    },
    {
     "name": "stdout",
     "output_type": "stream",
     "text": [
      "21\n"
     ]
    },
    {
     "name": "stderr",
     "output_type": "stream",
     "text": [
      "[Parallel(n_jobs=-1)]: Done 101 out of 101 | elapsed:   23.0s finished\n",
      "[Parallel(n_jobs=-1)]: Using backend LokyBackend with 16 concurrent workers.\n"
     ]
    },
    {
     "name": "stdout",
     "output_type": "stream",
     "text": [
      "22\n"
     ]
    },
    {
     "name": "stderr",
     "output_type": "stream",
     "text": [
      "[Parallel(n_jobs=-1)]: Done 101 out of 101 | elapsed:   24.3s finished\n",
      "[Parallel(n_jobs=-1)]: Using backend LokyBackend with 16 concurrent workers.\n"
     ]
    },
    {
     "name": "stdout",
     "output_type": "stream",
     "text": [
      "23\n"
     ]
    },
    {
     "name": "stderr",
     "output_type": "stream",
     "text": [
      "[Parallel(n_jobs=-1)]: Done 101 out of 101 | elapsed:   23.3s finished\n",
      "[Parallel(n_jobs=-1)]: Using backend LokyBackend with 16 concurrent workers.\n"
     ]
    },
    {
     "name": "stdout",
     "output_type": "stream",
     "text": [
      "24\n"
     ]
    },
    {
     "name": "stderr",
     "output_type": "stream",
     "text": [
      "[Parallel(n_jobs=-1)]: Done 101 out of 101 | elapsed:   23.0s finished\n",
      "[Parallel(n_jobs=-1)]: Using backend LokyBackend with 16 concurrent workers.\n"
     ]
    },
    {
     "name": "stdout",
     "output_type": "stream",
     "text": [
      "25\n"
     ]
    },
    {
     "name": "stderr",
     "output_type": "stream",
     "text": [
      "[Parallel(n_jobs=-1)]: Done 101 out of 101 | elapsed:   24.6s finished\n",
      "[Parallel(n_jobs=-1)]: Using backend LokyBackend with 16 concurrent workers.\n"
     ]
    },
    {
     "name": "stdout",
     "output_type": "stream",
     "text": [
      "26\n"
     ]
    },
    {
     "name": "stderr",
     "output_type": "stream",
     "text": [
      "[Parallel(n_jobs=-1)]: Done 101 out of 101 | elapsed:   23.8s finished\n",
      "[Parallel(n_jobs=-1)]: Using backend LokyBackend with 16 concurrent workers.\n"
     ]
    },
    {
     "name": "stdout",
     "output_type": "stream",
     "text": [
      "27\n"
     ]
    },
    {
     "name": "stderr",
     "output_type": "stream",
     "text": [
      "[Parallel(n_jobs=-1)]: Done 101 out of 101 | elapsed:   23.4s finished\n",
      "[Parallel(n_jobs=-1)]: Using backend LokyBackend with 16 concurrent workers.\n"
     ]
    },
    {
     "name": "stdout",
     "output_type": "stream",
     "text": [
      "28\n"
     ]
    },
    {
     "name": "stderr",
     "output_type": "stream",
     "text": [
      "[Parallel(n_jobs=-1)]: Done 101 out of 101 | elapsed:   23.0s finished\n",
      "[Parallel(n_jobs=-1)]: Using backend LokyBackend with 16 concurrent workers.\n"
     ]
    },
    {
     "name": "stdout",
     "output_type": "stream",
     "text": [
      "29\n"
     ]
    },
    {
     "name": "stderr",
     "output_type": "stream",
     "text": [
      "[Parallel(n_jobs=-1)]: Done 101 out of 101 | elapsed:   21.9s finished\n",
      "[Parallel(n_jobs=-1)]: Using backend LokyBackend with 16 concurrent workers.\n"
     ]
    },
    {
     "name": "stdout",
     "output_type": "stream",
     "text": [
      "30\n"
     ]
    },
    {
     "name": "stderr",
     "output_type": "stream",
     "text": [
      "[Parallel(n_jobs=-1)]: Done 101 out of 101 | elapsed:   22.6s finished\n",
      "[Parallel(n_jobs=-1)]: Using backend LokyBackend with 16 concurrent workers.\n"
     ]
    },
    {
     "name": "stdout",
     "output_type": "stream",
     "text": [
      "31\n"
     ]
    },
    {
     "name": "stderr",
     "output_type": "stream",
     "text": [
      "[Parallel(n_jobs=-1)]: Done 101 out of 101 | elapsed:   23.2s finished\n",
      "[Parallel(n_jobs=-1)]: Using backend LokyBackend with 16 concurrent workers.\n"
     ]
    },
    {
     "name": "stdout",
     "output_type": "stream",
     "text": [
      "32\n"
     ]
    },
    {
     "name": "stderr",
     "output_type": "stream",
     "text": [
      "[Parallel(n_jobs=-1)]: Done 101 out of 101 | elapsed:   21.9s finished\n",
      "[Parallel(n_jobs=-1)]: Using backend LokyBackend with 16 concurrent workers.\n"
     ]
    },
    {
     "name": "stdout",
     "output_type": "stream",
     "text": [
      "33\n"
     ]
    },
    {
     "name": "stderr",
     "output_type": "stream",
     "text": [
      "[Parallel(n_jobs=-1)]: Done 101 out of 101 | elapsed:   22.6s finished\n",
      "[Parallel(n_jobs=-1)]: Using backend LokyBackend with 16 concurrent workers.\n"
     ]
    },
    {
     "name": "stdout",
     "output_type": "stream",
     "text": [
      "34\n"
     ]
    },
    {
     "name": "stderr",
     "output_type": "stream",
     "text": [
      "[Parallel(n_jobs=-1)]: Done 101 out of 101 | elapsed:   22.5s finished\n",
      "[Parallel(n_jobs=-1)]: Using backend LokyBackend with 16 concurrent workers.\n"
     ]
    },
    {
     "name": "stdout",
     "output_type": "stream",
     "text": [
      "35\n"
     ]
    },
    {
     "name": "stderr",
     "output_type": "stream",
     "text": [
      "[Parallel(n_jobs=-1)]: Done 101 out of 101 | elapsed:   25.2s finished\n",
      "[Parallel(n_jobs=-1)]: Using backend LokyBackend with 16 concurrent workers.\n"
     ]
    },
    {
     "name": "stdout",
     "output_type": "stream",
     "text": [
      "36\n"
     ]
    },
    {
     "name": "stderr",
     "output_type": "stream",
     "text": [
      "[Parallel(n_jobs=-1)]: Done 101 out of 101 | elapsed:   21.2s finished\n",
      "[Parallel(n_jobs=-1)]: Using backend LokyBackend with 16 concurrent workers.\n"
     ]
    },
    {
     "name": "stdout",
     "output_type": "stream",
     "text": [
      "37\n"
     ]
    },
    {
     "name": "stderr",
     "output_type": "stream",
     "text": [
      "[Parallel(n_jobs=-1)]: Done 101 out of 101 | elapsed:   22.7s finished\n",
      "[Parallel(n_jobs=-1)]: Using backend LokyBackend with 16 concurrent workers.\n"
     ]
    },
    {
     "name": "stdout",
     "output_type": "stream",
     "text": [
      "38\n"
     ]
    },
    {
     "name": "stderr",
     "output_type": "stream",
     "text": [
      "[Parallel(n_jobs=-1)]: Done 101 out of 101 | elapsed:   21.8s finished\n",
      "[Parallel(n_jobs=-1)]: Using backend LokyBackend with 16 concurrent workers.\n"
     ]
    },
    {
     "name": "stdout",
     "output_type": "stream",
     "text": [
      "39\n"
     ]
    },
    {
     "name": "stderr",
     "output_type": "stream",
     "text": [
      "[Parallel(n_jobs=-1)]: Done 101 out of 101 | elapsed:   22.6s finished\n",
      "[Parallel(n_jobs=-1)]: Using backend LokyBackend with 16 concurrent workers.\n"
     ]
    },
    {
     "name": "stdout",
     "output_type": "stream",
     "text": [
      "40\n"
     ]
    },
    {
     "name": "stderr",
     "output_type": "stream",
     "text": [
      "[Parallel(n_jobs=-1)]: Done 101 out of 101 | elapsed:   22.2s finished\n",
      "[Parallel(n_jobs=-1)]: Using backend LokyBackend with 16 concurrent workers.\n"
     ]
    },
    {
     "name": "stdout",
     "output_type": "stream",
     "text": [
      "41\n"
     ]
    },
    {
     "name": "stderr",
     "output_type": "stream",
     "text": [
      "[Parallel(n_jobs=-1)]: Done 101 out of 101 | elapsed:   23.4s finished\n",
      "[Parallel(n_jobs=-1)]: Using backend LokyBackend with 16 concurrent workers.\n"
     ]
    },
    {
     "name": "stdout",
     "output_type": "stream",
     "text": [
      "42\n"
     ]
    },
    {
     "name": "stderr",
     "output_type": "stream",
     "text": [
      "[Parallel(n_jobs=-1)]: Done 101 out of 101 | elapsed:   24.2s finished\n",
      "[Parallel(n_jobs=-1)]: Using backend LokyBackend with 16 concurrent workers.\n"
     ]
    },
    {
     "name": "stdout",
     "output_type": "stream",
     "text": [
      "43\n"
     ]
    },
    {
     "name": "stderr",
     "output_type": "stream",
     "text": [
      "[Parallel(n_jobs=-1)]: Done 101 out of 101 | elapsed:   22.2s finished\n",
      "[Parallel(n_jobs=-1)]: Using backend LokyBackend with 16 concurrent workers.\n"
     ]
    },
    {
     "name": "stdout",
     "output_type": "stream",
     "text": [
      "44\n"
     ]
    },
    {
     "name": "stderr",
     "output_type": "stream",
     "text": [
      "[Parallel(n_jobs=-1)]: Done 101 out of 101 | elapsed:   23.1s finished\n",
      "[Parallel(n_jobs=-1)]: Using backend LokyBackend with 16 concurrent workers.\n"
     ]
    },
    {
     "name": "stdout",
     "output_type": "stream",
     "text": [
      "45\n"
     ]
    },
    {
     "name": "stderr",
     "output_type": "stream",
     "text": [
      "[Parallel(n_jobs=-1)]: Done 101 out of 101 | elapsed:   22.4s finished\n",
      "[Parallel(n_jobs=-1)]: Using backend LokyBackend with 16 concurrent workers.\n"
     ]
    },
    {
     "name": "stdout",
     "output_type": "stream",
     "text": [
      "46\n"
     ]
    },
    {
     "name": "stderr",
     "output_type": "stream",
     "text": [
      "[Parallel(n_jobs=-1)]: Done 101 out of 101 | elapsed:   23.4s finished\n",
      "[Parallel(n_jobs=-1)]: Using backend LokyBackend with 16 concurrent workers.\n"
     ]
    },
    {
     "name": "stdout",
     "output_type": "stream",
     "text": [
      "47\n"
     ]
    },
    {
     "name": "stderr",
     "output_type": "stream",
     "text": [
      "[Parallel(n_jobs=-1)]: Done 101 out of 101 | elapsed:   22.4s finished\n",
      "[Parallel(n_jobs=-1)]: Using backend LokyBackend with 16 concurrent workers.\n"
     ]
    },
    {
     "name": "stdout",
     "output_type": "stream",
     "text": [
      "48\n"
     ]
    },
    {
     "name": "stderr",
     "output_type": "stream",
     "text": [
      "[Parallel(n_jobs=-1)]: Done 101 out of 101 | elapsed:   21.4s finished\n",
      "[Parallel(n_jobs=-1)]: Using backend LokyBackend with 16 concurrent workers.\n"
     ]
    },
    {
     "name": "stdout",
     "output_type": "stream",
     "text": [
      "49\n"
     ]
    },
    {
     "name": "stderr",
     "output_type": "stream",
     "text": [
      "[Parallel(n_jobs=-1)]: Done 101 out of 101 | elapsed:   22.2s finished\n",
      "[Parallel(n_jobs=-1)]: Using backend LokyBackend with 16 concurrent workers.\n"
     ]
    },
    {
     "name": "stdout",
     "output_type": "stream",
     "text": [
      "50\n"
     ]
    },
    {
     "name": "stderr",
     "output_type": "stream",
     "text": [
      "[Parallel(n_jobs=-1)]: Done 101 out of 101 | elapsed:   21.8s finished\n",
      "[Parallel(n_jobs=-1)]: Using backend LokyBackend with 16 concurrent workers.\n"
     ]
    },
    {
     "name": "stdout",
     "output_type": "stream",
     "text": [
      "51\n"
     ]
    },
    {
     "name": "stderr",
     "output_type": "stream",
     "text": [
      "[Parallel(n_jobs=-1)]: Done 101 out of 101 | elapsed:   21.2s finished\n",
      "[Parallel(n_jobs=-1)]: Using backend LokyBackend with 16 concurrent workers.\n"
     ]
    },
    {
     "name": "stdout",
     "output_type": "stream",
     "text": [
      "52\n"
     ]
    },
    {
     "name": "stderr",
     "output_type": "stream",
     "text": [
      "[Parallel(n_jobs=-1)]: Done 101 out of 101 | elapsed:   21.5s finished\n",
      "[Parallel(n_jobs=-1)]: Using backend LokyBackend with 16 concurrent workers.\n"
     ]
    },
    {
     "name": "stdout",
     "output_type": "stream",
     "text": [
      "53\n"
     ]
    },
    {
     "name": "stderr",
     "output_type": "stream",
     "text": [
      "[Parallel(n_jobs=-1)]: Done 101 out of 101 | elapsed:   21.6s finished\n",
      "[Parallel(n_jobs=-1)]: Using backend LokyBackend with 16 concurrent workers.\n"
     ]
    },
    {
     "name": "stdout",
     "output_type": "stream",
     "text": [
      "54\n"
     ]
    },
    {
     "name": "stderr",
     "output_type": "stream",
     "text": [
      "[Parallel(n_jobs=-1)]: Done 101 out of 101 | elapsed:   20.2s finished\n",
      "[Parallel(n_jobs=-1)]: Using backend LokyBackend with 16 concurrent workers.\n"
     ]
    },
    {
     "name": "stdout",
     "output_type": "stream",
     "text": [
      "55\n"
     ]
    },
    {
     "name": "stderr",
     "output_type": "stream",
     "text": [
      "[Parallel(n_jobs=-1)]: Done 101 out of 101 | elapsed:   20.3s finished\n",
      "[Parallel(n_jobs=-1)]: Using backend LokyBackend with 16 concurrent workers.\n"
     ]
    },
    {
     "name": "stdout",
     "output_type": "stream",
     "text": [
      "56\n"
     ]
    },
    {
     "name": "stderr",
     "output_type": "stream",
     "text": [
      "[Parallel(n_jobs=-1)]: Done 101 out of 101 | elapsed:   19.3s finished\n",
      "[Parallel(n_jobs=-1)]: Using backend LokyBackend with 16 concurrent workers.\n"
     ]
    },
    {
     "name": "stdout",
     "output_type": "stream",
     "text": [
      "57\n"
     ]
    },
    {
     "name": "stderr",
     "output_type": "stream",
     "text": [
      "[Parallel(n_jobs=-1)]: Done 101 out of 101 | elapsed:   21.4s finished\n",
      "[Parallel(n_jobs=-1)]: Using backend LokyBackend with 16 concurrent workers.\n"
     ]
    },
    {
     "name": "stdout",
     "output_type": "stream",
     "text": [
      "58\n"
     ]
    },
    {
     "name": "stderr",
     "output_type": "stream",
     "text": [
      "[Parallel(n_jobs=-1)]: Done 101 out of 101 | elapsed:   20.9s finished\n",
      "[Parallel(n_jobs=-1)]: Using backend LokyBackend with 16 concurrent workers.\n"
     ]
    },
    {
     "name": "stdout",
     "output_type": "stream",
     "text": [
      "59\n"
     ]
    },
    {
     "name": "stderr",
     "output_type": "stream",
     "text": [
      "[Parallel(n_jobs=-1)]: Done 101 out of 101 | elapsed:   20.8s finished\n",
      "[Parallel(n_jobs=-1)]: Using backend LokyBackend with 16 concurrent workers.\n"
     ]
    },
    {
     "name": "stdout",
     "output_type": "stream",
     "text": [
      "60\n"
     ]
    },
    {
     "name": "stderr",
     "output_type": "stream",
     "text": [
      "[Parallel(n_jobs=-1)]: Done 101 out of 101 | elapsed:   21.1s finished\n"
     ]
    },
    {
     "data": {
      "image/png": "[encoded data removed]",
      "text/plain": [
       "<Figure size 432x288 with 1 Axes>"
      ]
     },
     "metadata": {
      "needs_background": "light"
     },
     "output_type": "display_data"
    }
   ],
   "source": [
    "# preparing the test set\n",
    "f_test = test.drop([outcome, treatment], axis=1)\n",
    "X1_test = scaler.fit_transform(f_test[[c for c in num_hetero_cols]].to_numpy())\n",
    "X2_test = pd.get_dummies(f_test[cat_hetero_cols]).to_numpy()\n",
    "X_test = np.concatenate([X1_test, X2_test], axis=1)\n",
    "\n",
    "\n",
    "# with open(\"results_1000.csv\", \"w\") as f:\n",
    "#     f.write(\"%s, %s, %s, %s, %s, %s\\n\" % (\"n_trees\", \"min_leaf_size\", \"max_depth\", \"subsample_ratio\", \"lambda_reg\", \"AUC\"))\n",
    "    \n",
    "for i in itertools.product(N_trees, Min_leaf_size, Max_depth, Subsample_ratio, Lambda_reg):\n",
    "    print(i)\n",
    "    n_trees = i[0]\n",
    "    min_leaf_size = i[1]\n",
    "    max_depth = i[2]\n",
    "    subsample_ratio = i[3]\n",
    "    lambda_reg = i[4]\n",
    "    est = DMLOrthoForest(\n",
    "        n_trees=n_trees, min_leaf_size=min_leaf_size, max_depth=max_depth, \n",
    "        subsample_ratio=subsample_ratio, discrete_treatment=True,\n",
    "        model_T=LogisticRegression(C=1/(X.shape[0]*lambda_reg), penalty='l1', solver='saga'),\n",
    "        model_Y=Lasso(alpha=lambda_reg),\n",
    "        model_T_final=LogisticRegression(C=1/(X.shape[0]*lambda_reg), penalty='l1', solver='saga'), \n",
    "        model_Y_final=WeightedLasso(alpha=lambda_reg),\n",
    "        random_state=106\n",
    "       )\n",
    "    \n",
    "    ortho_model = est.fit(Y, T, X, W)\n",
    "    batches = np.array_split(X_test, X_test.shape[0] / 100)\n",
    "    treatment_effects = est.const_marginal_effect(batches[0])\n",
    "    ii = 0\n",
    "    for batch in batches[1:]:\n",
    "#         print(ii)\n",
    "        estimates = est.const_marginal_effect(batch)\n",
    "        treatment_effects = np.append(treatment_effects, estimates)\n",
    "        ii += 1\n",
    "    df_results = test\n",
    "    df_results['Treatment Effects'] = treatment_effects\n",
    "    \n",
    "    # Calculate default (90%) confidence intervals for the default treatment points T0=0 and T1=1\n",
    "    te_lower, te_upper = est.effect_interval(batches[0])\n",
    "    ii = 0\n",
    "    for batch in batches[1:]:\n",
    "        print(ii)\n",
    "        lower, upper = est.effect_interval(batch)\n",
    "        te_lower = np.append(te_lower, lower)\n",
    "        te_upper = np.append(te_upper, upper)\n",
    "        ii += 1\n",
    "        \n",
    "    df_results['te_lower'] = te_lower\n",
    "    df_results['te_upper'] = te_upper\n",
    "    df_results['Interval Length'] = df_results['te_upper'] - df_results['te_lower']\n",
    "    \n",
    "    net_value = [0]\n",
    "    net_value2 = [0]\n",
    "    net_value3 = [0]\n",
    "\n",
    "    percentages = [10,20,30,40,50,60,70,80,90,100]\n",
    "\n",
    "    for n in percentages:\n",
    "        num = int(len(df_results)*(n/100))\n",
    "        top_n = df_results.nsmallest(num,'Treatment Effects')\n",
    "        n_treated = top_n[top_n['treatment']==1].shape[0]\n",
    "        n_control = top_n[top_n['treatment']==0].shape[0]\n",
    "        scale_factor = n_treated/n_control\n",
    "\n",
    "        treated = top_n[top_n['treatment']==1]['duration'].sum()\n",
    "        control = top_n[top_n['treatment']==0]['duration'].sum()\n",
    "\n",
    "        reduction = (scale_factor*control) - treated \n",
    "        net_value.append(reduction)\n",
    "        \n",
    "#     for n in percentages:\n",
    "#         num = int(len(df_results)*(n/100))\n",
    "#         top_n = df_results.nsmallest(num,'te_lower')\n",
    "#         n_treated = top_n[top_n['treatment']==1].shape[0]\n",
    "#         n_control = top_n[top_n['treatment']==0].shape[0]\n",
    "#         scale_factor = n_treated/n_control\n",
    "\n",
    "#         treated = top_n[top_n['treatment']==1]['duration'].sum()\n",
    "#         control = top_n[top_n['treatment']==0]['duration'].sum()\n",
    "\n",
    "#         reduction = (scale_factor*control) - treated \n",
    "#         net_value2.append(reduction)\n",
    "        \n",
    "#     for n in percentages:\n",
    "#         num = int(len(df_results)*(n/100))\n",
    "#         top_n = df_results.nsmallest(num,'te_upper')\n",
    "#         n_treated = top_n[top_n['treatment']==1].shape[0]\n",
    "#         n_control = top_n[top_n['treatment']==0].shape[0]\n",
    "#         scale_factor = n_treated/n_control\n",
    "\n",
    "#         treated = top_n[top_n['treatment']==1]['duration'].sum()\n",
    "#         control = top_n[top_n['treatment']==0]['duration'].sum()\n",
    "\n",
    "#         reduction = (scale_factor*control) - treated \n",
    "#         net_value3.append(reduction) \n",
    "        \n",
    "#     plt.figure(figsize=(10, 4))\n",
    "#     plt.subplot(1, 2, 1)\n",
    "    plt.plot([0]+percentages, net_value, label=\"'Treatment Effect\", marker=\"o\")\n",
    "#     plt.plot([0]+percentages, net_value2, label=\"'TE Lower bound\", marker=\"o\", color='Green')\n",
    "#     plt.plot([0]+percentages, net_value3, label=\"'TE Upper bound\", marker=\"o\", color='Red')\n",
    "    plt.plot([0,percentages[9]], [0,net_value[10]], label=\"'Treatment Effect\",  marker=\"o\", color='Black',\n",
    "             linestyle='dashed')\n",
    "    plt.xlabel('Proportion of cases targeted')\n",
    "    plt.ylabel('Expected incremental reduction')\n",
    "    plt.legend(loc='best')\n",
    "    plt.title(i)\n",
    "\n",
    "    plt.savefig('Results/_Call_incomplete_files_highD2_%s.png'%str(i), format='png', dpi=300)\n",
    "    \n",
    "    AUC = np.trapz(net_value, [0]+percentages)\n",
    "    \n",
    "#     with open(\"results_1000.csv\", \"a\") as f:\n",
    "#         f.write(\"%s, %s, %s, %s, %s, %s\\n\" % (n_trees, min_leaf_size, max_depth, subsample_ratio, lambda_reg, AUC))"
   ]
  },
  {
   "cell_type": "code",
   "execution_count": null,
   "metadata": {},
   "outputs": [],
   "source": [
    "for i in itertools.product(N_trees, Min_leaf_size, Max_depth, Subsample_ratio, Lambda_reg):\n",
    "    print(i)\n",
    "    n_trees = i[0]\n",
    "    min_leaf_size = i[1]\n",
    "    max_depth = i[2]\n",
    "    subsample_ratio = i[3]\n",
    "    lambda_reg = i[4]\n",
    "    est = DMLOrthoForest(\n",
    "        n_trees=n_trees, min_leaf_size=min_leaf_size, max_depth=max_depth, \n",
    "        subsample_ratio=subsample_ratio, discrete_treatment=True,\n",
    "        model_T=LogisticRegression(C=1/(X.shape[0]*lambda_reg), penalty='l1', solver='saga'),\n",
    "        model_Y=Lasso(alpha=lambda_reg),\n",
    "        model_T_final=LogisticRegression(C=1/(X.shape[0]*lambda_reg), penalty='l1', solver='saga'), \n",
    "        model_Y_final=WeightedLasso(alpha=lambda_reg),\n",
    "        random_state=106\n",
    "       )\n",
    "    \n",
    "    ortho_model = est.fit(Y, T, X, W)"
   ]
  },
  {
   "cell_type": "code",
   "execution_count": 29,
   "metadata": {},
   "outputs": [
    {
     "data": {
      "image/png": "[encoded data removed]",
      "text/plain": [
       "<Figure size 432x288 with 1 Axes>"
      ]
     },
     "metadata": {
      "needs_background": "light"
     },
     "output_type": "display_data"
    }
   ],
   "source": [
    "value = [1]\n",
    "cost = [3,1,2,0.5,0.2]\n",
    "cost = [0.3,0.5,1,2,3]\n",
    "\n",
    "percentages = [10,20,30,40,50,60,70,80,90,100]\n",
    "\n",
    "for i in itertools.product(value, cost):\n",
    "    net_value = [0]\n",
    "    v = i[0]\n",
    "    c = i[1]\n",
    "    for n in percentages:\n",
    "        num = int(len(df_results)*(n/100))\n",
    "        top_n = df_results.nsmallest(num,'Treatment Effects')\n",
    "        n_treated = top_n[top_n['treatment']==1].shape[0]\n",
    "        n_control = top_n[top_n['treatment']==0].shape[0]\n",
    "        scale_factor = n_treated/n_control\n",
    "\n",
    "        treated = top_n[top_n['treatment']==1]['duration'].sum()\n",
    "        control = top_n[top_n['treatment']==0]['duration'].sum()\n",
    "\n",
    "        reduction = (scale_factor*control) - treated\n",
    "        net_val = (reduction*v) - (n_treated*c) \n",
    "        net_value.append(net_val)\n",
    "    #     net_value.append(reduction)\n",
    "\n",
    "    # plt.figure(figsize=(10, 4))\n",
    "    # plt.subplot(1, 2, 1)\n",
    "    plt.plot([0]+percentages, net_value, label=\"v/c=%s\"%str(round(v/c,1)), marker=\"o\")\n",
    "#     plt.plot([0,percentages[9]], [0,net_value[10]], label=\"'Random Policy\",  marker=\"o\", color='Gray',\n",
    "#              linestyle='dashed')\n",
    "    plt.xlabel('Proportion of Cases Targeted')\n",
    "    plt.ylabel('Expected Net Value')\n",
    "    plt.legend(loc='best')\n",
    "    plt.title('Net-value Curve')\n",
    "\n",
    "plt.savefig('Results/_Call_incomplete_files_netvals.png', format='png', dpi=300)"
   ]
  },
  {
   "cell_type": "code",
   "execution_count": null,
   "metadata": {
    "scrolled": true
   },
   "outputs": [],
   "source": [
    "# non cumulative plot\n",
    "net_value = []\n",
    "confidence = []\n",
    "\n",
    "\n",
    "percentages = [10,20,30,40,50,60,70,80,90,100]\n",
    "num_rows = df_results.shape[0]\n",
    "df_results = df_results.sort_values('Treatment Effects', ascending=True)\n",
    "\n",
    "#non cumulative version\n",
    "for n in percentages:\n",
    "    top_n = df_results.iloc[round(num_rows * (n-10)/100) : round(num_rows * (n)/100) ,:]\n",
    "    confidence.append(top_n[\"Interval Length\"].mean()*10)\n",
    "    n_treated = top_n[top_n['treatment']==1].shape[0]\n",
    "    n_control = top_n[top_n['treatment']==0].shape[0]\n",
    "    scale_factor = n_treated/n_control\n",
    "\n",
    "    treated = top_n[top_n['treatment']==1]['duration'].sum()\n",
    "    control = top_n[top_n['treatment']==0]['duration'].sum()\n",
    "\n",
    "    reduction = (scale_factor*control) - treated \n",
    "    net_value.append(reduction)\n",
    "        \n",
    "# plt.figure(figsize=(10, 4))\n",
    "# plt.subplot(1, 2, 1)\n",
    "#plt.plot(percentages, net_value, label=\"'Treatment Effect\", marker=\"o\")\n",
    "plt.errorbar(percentages, net_value,yerr=confidence, fmt='--o')\n",
    "# plt.plot([percentages[0],percentages[9]], [net_value[0],net_value[9]], label=\"'Treatment Effect\",  marker=\"o\", color='Black',\n",
    "#          linestyle='dashed')\n",
    "plt.title('non cumulative')\n",
    "# plt.savefig('Results/Change_price_flipped_train_nonCumulative_%s.png'%str(i), format='png', dpi=300)"
   ]
  },
  {
   "cell_type": "code",
   "execution_count": null,
   "metadata": {},
   "outputs": [],
   "source": [
    "# For sensitivity analysis\n",
    "Y_hat, propensities = est.nuisance_estimator(Y, np.reshape(T, (-1, 1)), X, W)\n",
    "df_yhat = pd.DataFrame(Y_hat)\n",
    "\n",
    "df_propensity = pd.DataFrame(propensities)\n",
    "df_yhat[\"treatment\"] = train.reset_index()[\"treatment\"]\n",
    "\n",
    "# df_yhat[\"selected\"] = 0\n",
    "# for i,row in df_yhat.iterrows():\n",
    "#     df_yhat.loc[i,\"selected\"] = row[ row[\"treatment\"] ]\n",
    "    \n",
    "df_sensitivity = pd.concat([df_propensity[0], df_yhat[0], train.reset_index()[treatment],\n",
    "                            train.reset_index()[outcome]], keys=['g', 'Q', 't', 'y'], axis = 1)\n",
    "\n",
    "df_sensitivity.to_csv('Resources.csv', index=False)"
   ]
  },
  {
   "cell_type": "code",
   "execution_count": null,
   "metadata": {},
   "outputs": [],
   "source": [
    "# load results later and compare similarity matrices\n",
    "\n",
    "df_old = pd.read_csv('BPI17_skip_call_incomplete_withCI.csv')\n",
    "te = df_old.loc[:,['Treatment Effects']]\n",
    "df_old = df_results.drop([\"duration\", \"treatment\", \"Case ID\"], axis=1)"
   ]
  },
  {
   "cell_type": "code",
   "execution_count": null,
   "metadata": {},
   "outputs": [],
   "source": [
    "from sklearn.preprocessing import StandardScaler\n",
    "scaler = StandardScaler()\n",
    "\n",
    "\n",
    "cat_hetero_cols = ['LoanGoal', 'ApplicationType']\n",
    "num_hetero_cols = df_old.columns.difference(cat_hetero_cols)\n",
    "\n",
    "\n",
    "X1_test = scaler.fit_transform(df_old[[c for c in num_hetero_cols]].to_numpy())\n",
    "X2_test = pd.get_dummies(df_old[cat_hetero_cols]).to_numpy()\n",
    "X_test = np.concatenate([X1_test, X2_test], axis=1)\n",
    "\n",
    "df_old = pd.DataFrame(X_test)"
   ]
  },
  {
   "cell_type": "code",
   "execution_count": null,
   "metadata": {},
   "outputs": [],
   "source": [
    "from scipy.spatial.distance import pdist,squareform\n",
    "\n",
    "dist_fv = pd.DataFrame(squareform(pdist(df_old)))\n",
    "dist_te = pd.DataFrame(squareform(pdist(te)))"
   ]
  },
  {
   "cell_type": "code",
   "execution_count": null,
   "metadata": {},
   "outputs": [],
   "source": [
    "import seaborn as sns\n",
    "\n",
    "sns.heatmap(dist_fv.iloc[:300,:300],cmap=\"Greens\")"
   ]
  },
  {
   "cell_type": "code",
   "execution_count": null,
   "metadata": {},
   "outputs": [],
   "source": [
    "sns.heatmap(dist_te.iloc[:300,:300],cmap=\"Greens\")"
   ]
  },
  {
   "cell_type": "code",
   "execution_count": null,
   "metadata": {},
   "outputs": [],
   "source": []
  }
 ],
 "metadata": {
  "kernelspec": {
   "display_name": "Python 3",
   "language": "python",
   "name": "python3"
  },
  "language_info": {
   "codemirror_mode": {
    "name": "ipython",
    "version": 3
   },
   "file_extension": ".py",
   "mimetype": "text/x-python",
   "name": "python",
   "nbconvert_exporter": "python",
   "pygments_lexer": "ipython3",
   "version": "3.7.4"
  },
  "toc": {
   "base_numbering": 1,
   "nav_menu": {},
   "number_sections": true,
   "sideBar": true,
   "skip_h1_title": false,
   "title_cell": "Table of Contents",
   "title_sidebar": "Contents",
   "toc_cell": false,
   "toc_position": {},
   "toc_section_display": true,
   "toc_window_display": false
  },
  "varInspector": {
   "cols": {
    "lenName": 16,
    "lenType": 16,
    "lenVar": 40
   },
   "kernels_config": {
    "python": {
     "delete_cmd_postfix": "",
     "delete_cmd_prefix": "del ",
     "library": "var_list.py",
     "varRefreshCmd": "print(var_dic_list())"
    },
    "r": {
     "delete_cmd_postfix": ") ",
     "delete_cmd_prefix": "rm(",
     "library": "var_list.r",
     "varRefreshCmd": "cat(var_dic_list()) "
    }
   },
   "oldHeight": 663,
   "position": {
    "height": "40px",
    "left": "1566px",
    "right": "20px",
    "top": "133px",
    "width": "350px"
   },
   "types_to_exclude": [
    "module",
    "function",
    "builtin_function_or_method",
    "instance",
    "_Feature"
   ],
   "varInspector_section_display": "none",
   "window_display": true
  }
 },
 "nbformat": 4,
 "nbformat_minor": 2
}
